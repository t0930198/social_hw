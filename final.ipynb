{
 "cells": [
  {
   "cell_type": "markdown",
   "metadata": {
    "collapsed": false,
    "scrolled": false
   },
   "source": [
    "# 用ES搜尋2016前半年，遠傳中華台哥大的粉絲專頁\n",
    "# 並算出包含（按讚/分享/留言/抽獎）文章的比例 以及 包含（方案）的比例"
   ]
  },
  {
   "cell_type": "code",
   "execution_count": 124,
   "metadata": {
    "collapsed": false
   },
   "outputs": [],
   "source": [
    "%matplotlib inline\n",
    "\n",
    "import pyes\n",
    "import json\n",
    "import pandas as pd\n",
    "import seaborn as sns\n",
    "\n",
    "# import sys  \n",
    "\n",
    "# reload(sys)  \n",
    "# sys.setdefaultencoding('utf8')\n",
    "\n",
    "\n",
    "#get post with higher like and share count\n",
    "def higherLike(fids,host):\n",
    "#     print \"123\"\n",
    "    imgData = []\n",
    "    names = []\n",
    "    percentage=[];\n",
    "    p2 = [];\n",
    "    for fid in fids:\n",
    "        like=[];\n",
    "        share=[];\n",
    "        comment=[];\n",
    "        both=[];\n",
    "        project=[];\n",
    "        conn = pyes.es.ES(host)\n",
    "        \n",
    "        bq = pyes.query.BoolQuery() \n",
    "        tq = pyes.query.TermQuery(field=\"fid\", value=fid)\n",
    "        time = pyes.ESRange(field=\"created_time\", from_value=\"2016-01-01T06:30:44+0000\", to_value=\"2016-05-31T06:30:44+0000\", include_lower=True ,include_upper=False)\n",
    "        timeq = pyes.query.RangeQuery(time)\n",
    "#         tagg = pyes.aggs.TermsAgg('pid', field= 'id')\n",
    "        bq.add_must(tq)\n",
    "        bq.add_must(timeq)\n",
    "        qsearch = pyes.query.Search(bq) \n",
    "#         qsearch.agg.add(tagg) \n",
    "        result = conn.search(query=qsearch , indices='facebook_nested' , doc_types='post', sort=\"likes_count:desc,comment_count:desc\", size=100)\n",
    "#         print json.dumps(result.aggs,indent=2)\n",
    "#         print json.dumps(result[0],indent=2)\n",
    "        print result[0].fname\n",
    "        names.append(result[0].fname)\n",
    "        for r in result:\n",
    "#             print r.message\n",
    "#             print \"-----\"\n",
    "            try:\n",
    "#                 if unicode(\"按讚\",\"utf-8\") in r.message:\n",
    "#                     like.append(r)\n",
    "#                 if unicode(\"分享\",\"utf-8\") in r.message:\n",
    "#                     share.append(r)\n",
    "#                 if unicode(\"留言\",\"utf-8\") in r.message:\n",
    "#                     comment.append(r)\n",
    "                if unicode(\"按讚\",\"utf-8\") in r.message or unicode(\"分享\",\"utf-8\") in r.message or unicode(\"留言\",\"utf-8\") in r.message and unicode(\"抽\",\"utf-8\") in r.message:\n",
    "                    both.append(r.fid)\n",
    "                    imgData.append(r.fid)\n",
    "                if unicode(\"方案\",\"utf-8\") in r.message:\n",
    "                    project.append(r.fid)\n",
    "            except:\n",
    "                continue\n",
    "#         print len(like)\n",
    "#         print len(share)\n",
    "#         print len(comment)\n",
    "#         print len(both)\n",
    "        percentage.append(float(len(both))/float(100))\n",
    "        p2.append(float(len(project))/float(100))\n",
    "    print \"抽獎\"\n",
    "    for p in percentage:\n",
    "        print p\n",
    "    print \"方案\"\n",
    "    for p in p2:\n",
    "        print p\n",
    "    df = pd.DataFrame\n",
    "    (\n",
    "        {\n",
    "            \"name\": imgData\n",
    "        }\n",
    "    )\n",
    "    sns.countplot(imgData)\n",
    "#     sns.plt.show()"
   ]
  },
  {
   "cell_type": "markdown",
   "metadata": {},
   "source": [
    "# 設定參數來執行剛剛上面的function\n"
   ]
  },
  {
   "cell_type": "code",
   "execution_count": 125,
   "metadata": {
    "collapsed": false
   },
   "outputs": [
    {
     "name": "stdout",
     "output_type": "stream",
     "text": [
      "遠傳電信\n",
      "中華電信行動學園\n",
      "台灣大哥大與你生活在一起\n",
      "抽獎\n",
      "0.43\n",
      "0.17\n",
      "0.07\n",
      "方案\n",
      "0.1\n",
      "0.23\n",
      "0.03\n"
     ]
    },
    {
     "data": {
      "image/png": "[encoded data removed]",
      "text/plain": [
       "<matplotlib.figure.Figure at 0x7f1040464ed0>"
      ]
     },
     "metadata": {},
     "output_type": "display_data"
    }
   ],
   "source": [
    "#assign the facebook fans page that you prefered\n",
    "fids=['162583067088337','166459533383697','1448357445384692']\n",
    "\n",
    "#遠傳 中華 台哥大\n",
    "#elasticsearch repository provided by this course\n",
    "host = '140.118.126.237:9200'\n",
    "\n",
    "higherLike(fids,host)"
   ]
  },
  {
   "cell_type": "markdown",
   "metadata": {},
   "source": [
    "# 明顯看出台灣大哥大這兩系列文章較少，為何呢～～"
   ]
  },
  {
   "cell_type": "code",
   "execution_count": 126,
   "metadata": {
    "collapsed": false
   },
   "outputs": [],
   "source": [
    "def boxPlotFBFansPageComp(fids,host,pngFilePath,outlierFilter):\n",
    "    data=[]\n",
    "    for fid in fids:\n",
    "        conn = pyes.es.ES(host)\n",
    "        tq = pyes.query.TermQuery(field=\"fid\", value=fid)\n",
    "        tagg = pyes.aggs.TermsAgg('pid', field= 'fid_pid')\n",
    "        qsearch = pyes.query.Search(tq) \n",
    "        qsearch.agg.add(tagg) \n",
    "        result = conn.search(query=qsearch , indices='facebook_nested' , doc_types='comment')\n",
    "        #print json.dumps(result.aggs,indent=2) \n",
    "        for fidpid_summary in result.aggs[\"pid\"][\"buckets\"]:\n",
    "            #print fidpid_summary[\"key\"] + ',' + str(fidpid_summary[\"doc_count\"])\n",
    "            if fidpid_summary[\"doc_count\"] < outlierFilter or outlierFilter < 0:\n",
    "                data.append([fidpid_summary[\"doc_count\"],fid,fidpid_summary[\"key\"]])\n",
    "\n",
    "    df=pd.DataFrame(data,columns={'count','fid','fidpid'})\n",
    "    sns.set(style=\"ticks\")\n",
    "    sns_plot=sns.boxplot(x=\"fid\", y=\"count\", data=df, palette=\"PRGn\")\n",
    "    fig=sns_plot.get_figure()\n",
    "    fig.savefig(pngFilePath)"
   ]
  },
  {
   "cell_type": "code",
   "execution_count": 127,
   "metadata": {
    "collapsed": false
   },
   "outputs": [
    {
     "data": {
      "image/png": "[encoded data removed]",
      "text/plain": [
       "<matplotlib.figure.Figure at 0x7f104034fb90>"
      ]
     },
     "metadata": {},
     "output_type": "display_data"
    }
   ],
   "source": [
    "pngFilePath=\"output.png\"\n",
    "\n",
    "outlierFilter=2000\n",
    "\n",
    "boxPlotFBFansPageComp(fids,host,pngFilePath,outlierFilter)"
   ]
  },
  {
   "cell_type": "markdown",
   "metadata": {},
   "source": [
    "## 可以看出台灣大哥大的讚數分佈跟其他家有毀滅性的差異\n",
    "## 既不推廣新方案，也不抽獎 應該是他們沒什麼讚的原因之一"
   ]
  },
  {
   "cell_type": "code",
   "execution_count": null,
   "metadata": {
    "collapsed": true
   },
   "outputs": [],
   "source": []
  }
 ],
 "metadata": {
  "anaconda-cloud": {},
  "kernelspec": {
   "display_name": "Python [Root]",
   "language": "python",
   "name": "Python [Root]"
  },
  "language_info": {
   "codemirror_mode": {
    "name": "ipython",
    "version": 2
   },
   "file_extension": ".py",
   "mimetype": "text/x-python",
   "name": "python",
   "nbconvert_exporter": "python",
   "pygments_lexer": "ipython2",
   "version": "2.7.12"
  }
 },
 "nbformat": 4,
 "nbformat_minor": 0
}
