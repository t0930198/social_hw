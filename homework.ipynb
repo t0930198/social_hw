{
 "cells": [
  {
   "cell_type": "code",
   "execution_count": 25,
   "metadata": {
    "collapsed": false
   },
   "outputs": [
    {
     "name": "stdout",
     "output_type": "stream",
     "text": [
      "1:  {\n",
      "    \"uid\": {\n",
      "        \"value\": 102\n",
      "    }\n",
      "}\n",
      "2:  5080\n"
     ]
    }
   ],
   "source": [
    "import pyes\n",
    "import json\n",
    "from pyes import ES,MatchAllQuery\n",
    "from pyes.aggs import TermsAgg, HistogramAgg\n",
    "from pyes.query import RangeQuery, NestedQuery\n",
    "from pyes.utils import ESRange\n",
    "import pandas as pd\n",
    "from datetime import datetime\n",
    "\n",
    "es_address='140.118.126.240:9200'\n",
    "\n",
    "conn=pyes.es.ES(es_address)\n",
    "\n",
    "bq = pyes.BoolQuery()\n",
    "tsf = pyes.filters.TermsFilter(field=\"text\", values=[\"cve\",\"overflow\",\"aslr\",\"pwn\",\"shellcode\",\"vulnerability\",\"security\",\"ctf\",\"exploit\",\"rce\"])\n",
    "fq = pyes.query.FilteredQuery(pyes.query.MatchAllQuery(), tsf)\n",
    "\n",
    "\n",
    "bq.add_should(fq)\n",
    "\n",
    "rq = RangeQuery(qrange=ESRange(field=\"created_at\",from_value=1388567481537,to_value=1420017981537))\n",
    "bq.add_must(rq)\n",
    "\n",
    "qsearch = pyes.query.Search(bq) \n",
    "tagg = pyes.aggs.CardinalityAgg('uid', field = 'uid') \n",
    "qsearch.agg.add(tagg)\n",
    "\n",
    "rs = conn.search(query=qsearch, indices='twitter2' , type=\"tweet\")\n",
    "print \"1: \",json.dumps(rs.aggs,indent=4)\n",
    "print \"2: \",len(rs)\n",
    "total = len(rs)\n"
   ]
  },
  {
   "cell_type": "code",
   "execution_count": 26,
   "metadata": {
    "collapsed": false
   },
   "outputs": [
    {
     "name": "stdout",
     "output_type": "stream",
     "text": [
      "4:\n"
     ]
    },
    {
     "data": {
      "image/png": "[encoded data removed]",
      "text/plain": [
       "<matplotlib.figure.Figure at 0x7f791c6b8dd0>"
      ]
     },
     "metadata": {},
     "output_type": "display_data"
    }
   ],
   "source": [
    "import matplotlib\n",
    "matplotlib.use('agg')\n",
    "import matplotlib.pyplot as plt\n",
    "import seaborn as sns\n",
    "qsearch_2 = pyes.query.Search(bq) \n",
    "DHAgg = pyes.aggs.DateHistogramAgg('by_month' ,field='created_at', interval='month', sub_aggs=[])\n",
    "qsearch_2.agg.add(DHAgg)\n",
    "\n",
    "rs = conn.search(query=qsearch_2, indices='twitter2' , type=\"tweet\")\n",
    "# print json.dumps(rs.aggs,indent=4)\n",
    "month_data = pd.read_json(json.dumps(rs.aggs[\"by_month\"][\"buckets\"]))\n",
    "# print json.dumps(rs.aggs[\"by_month\"])\n",
    "%matplotlib inline\n",
    "type (month_data)\n",
    "month_data.index = month_data.index + 1  # shifting index\n",
    "sns.distplot(month_data['doc_count'])\n",
    "print \"4:\"\n",
    "month_data['doc_count'].plot.bar()\n",
    "sns.plt.show()\n",
    "# sns.boxplot()\n"
   ]
  },
  {
   "cell_type": "code",
   "execution_count": 27,
   "metadata": {
    "collapsed": false
   },
   "outputs": [
    {
     "name": "stderr",
     "output_type": "stream",
     "text": [
      "/opt/conda/lib/python2.7/site-packages/ipykernel/__main__.py:8: SettingWithCopyWarning: \n",
      "A value is trying to be set on a copy of a slice from a DataFrame\n",
      "\n",
      "See the caveats in the documentation: http://pandas.pydata.org/pandas-docs/stable/indexing.html#indexing-view-versus-copy\n"
     ]
    },
    {
     "name": "stdout",
     "output_type": "stream",
     "text": [
      "3: \n"
     ]
    },
    {
     "data": {
      "image/png": "[encoded data removed]",
      "text/plain": [
       "<matplotlib.figure.Figure at 0x7f790ef83710>"
      ]
     },
     "metadata": {},
     "output_type": "display_data"
    }
   ],
   "source": [
    "DHAgg.sub_aggs.append(tagg)\n",
    "qsearch_3 = pyes.query.Search(bq) \n",
    "qsearch_3.agg.add(DHAgg)\n",
    "rs = conn.search(query=qsearch_3, indices='twitter2' , type=\"tweet\")\n",
    "month_data = pd.read_json(json.dumps(rs.aggs[\"by_month\"][\"buckets\"]))\n",
    "# month_data['uid'][0]['value']\n",
    "for i in range(0,12):\n",
    "    month_data['uid'][i] = month_data['uid'][i]['value']\n",
    "\n",
    "month_data.index = month_data.index + 1  # shifting index\n",
    "print \"3: \"\n",
    "month_data['uid'].plot.bar()\n",
    "sns.plt.show()"
   ]
  },
  {
   "cell_type": "code",
   "execution_count": 51,
   "metadata": {
    "collapsed": false
   },
   "outputs": [
    {
     "name": "stdout",
     "output_type": "stream",
     "text": [
      "5: \n"
     ]
    },
    {
     "data": {
      "image/png": "[encoded data removed]",
      "text/plain": [
       "<matplotlib.figure.Figure at 0x7f790f0abcd0>"
      ]
     },
     "metadata": {},
     "output_type": "display_data"
    }
   ],
   "source": [
    "# from elasticsearch import Elasticsearch\n",
    "\n",
    "# response = client.search(\n",
    "#     index=\"twitter2\",\n",
    "#     body={\n",
    "#       \"query\": {\n",
    "#         \"nested\": {\n",
    "#           \"path\": \"entities\",\n",
    "#           \"query\": {\n",
    "#             \"match_all\": {}\n",
    "#           },\n",
    "#           \"filter\": {\n",
    "#             \"exists\": {\n",
    "#               \"field\": \"entities.urls\"\n",
    "#             }\n",
    "#           }\n",
    "#         }\n",
    "#       }\n",
    "#     }\n",
    "# )\n",
    "\n",
    "\n",
    "\n",
    "qsearch_4 = pyes.query.Search(bq) \n",
    "hagg = HistogramAgg('url', field = \"entities.urls.indices\", interval = 1000) \n",
    "qsearch_4.agg.add(hagg)\n",
    "\n",
    "rs = conn.search(query=qsearch_4, indices='twitter2' , type=\"tweet\")\n",
    "urls = pd.read_json(json.dumps(rs.aggs[\"url\"][\"buckets\"]))\n",
    "with_url = urls[\"doc_count\"][0]\n",
    "without_url = total - with_url;\n",
    "\n",
    "d = {'url???': [with_url*100/total, 100-with_url*100/total]}\n",
    "df = pd.DataFrame(data=d, index=['url','nourl'])\n",
    "print \"5: \"\n",
    "df.plot.pie(subplots=True)\n",
    "sns.plt.show()"
   ]
  },
  {
   "cell_type": "code",
   "execution_count": null,
   "metadata": {
    "collapsed": true
   },
   "outputs": [],
   "source": []
  },
  {
   "cell_type": "code",
   "execution_count": null,
   "metadata": {
    "collapsed": true
   },
   "outputs": [],
   "source": []
  }
 ],
 "metadata": {
  "kernelspec": {
   "display_name": "Python [Root]",
   "language": "python",
   "name": "Python [Root]"
  },
  "language_info": {
   "codemirror_mode": {
    "name": "ipython",
    "version": 2
   },
   "file_extension": ".py",
   "mimetype": "text/x-python",
   "name": "python",
   "nbconvert_exporter": "python",
   "pygments_lexer": "ipython2",
   "version": "2.7.12"
  }
 },
 "nbformat": 4,
 "nbformat_minor": 0
}
